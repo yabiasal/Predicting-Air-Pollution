{
 "cells": [
  {
   "cell_type": "code",
   "execution_count": 3,
   "id": "2ef089c7",
   "metadata": {},
   "outputs": [],
   "source": [
    "import math\n",
    "import psutil\n",
    "import dask\n",
    "import dask.dataframe as dd\n",
    "import multiprocessing \n",
    "import numpy as np\n",
    "import pandas as pd\n",
    "from sklearn.neural_network import MLPRegressor\n",
    "from sklearn.datasets import make_regression\n",
    "from sklearn.model_selection import train_test_split\n",
    "from sklearn.preprocessing import StandardScaler\n",
    "from sklearn.metrics import accuracy_score\n",
    "from sklearn.metrics import mean_squared_error, mean_absolute_error"
   ]
  },
  {
   "cell_type": "code",
   "execution_count": 4,
   "id": "a74dfd8c",
   "metadata": {},
   "outputs": [
    {
     "name": "stdout",
     "output_type": "stream",
     "text": [
      "4\n"
     ]
    }
   ],
   "source": [
    "# Show number of cores of the laptop\n",
    "print(multiprocessing.cpu_count())"
   ]
  },
  {
   "cell_type": "code",
   "execution_count": 5,
   "id": "d369fb30",
   "metadata": {},
   "outputs": [
    {
     "name": "stdout",
     "output_type": "stream",
     "text": [
      "Total RAM Installed: 12.78 GB\n",
      "Available RAM : 4.81 GB\n",
      "Used RAM: 7.97 GB\n",
      "RAM Usage : 62.4 %\n"
     ]
    }
   ],
   "source": [
    "print(f\"Total RAM Installed: {round(psutil.virtual_memory().total/1000000000, 2)} GB\")\n",
    "print(f\"Available RAM : {round(psutil.virtual_memory().available/1000000000, 2)} GB\")\n",
    "print(f\"Used RAM: {round(psutil.virtual_memory().used/1000000000, 2)} GB\")\n",
    "print(f\"RAM Usage : {psutil.virtual_memory().percent} %\")"
   ]
  },
  {
   "cell_type": "code",
   "execution_count": 6,
   "id": "7ede92c2",
   "metadata": {},
   "outputs": [
    {
     "data": {
      "text/html": [
       "<div>\n",
       "    <div style=\"width: 24px; height: 24px; background-color: #e1e1e1; border: 3px solid #9D9D9D; border-radius: 5px; position: absolute;\"> </div>\n",
       "    <div style=\"margin-left: 48px;\">\n",
       "        <h3 style=\"margin-bottom: 0px;\">Client</h3>\n",
       "        <p style=\"color: #9D9D9D; margin-bottom: 0px;\">Client-15e9a983-c439-11ec-8830-c83dd47b6e86</p>\n",
       "        <table style=\"width: 100%; text-align: left;\">\n",
       "\n",
       "        <tr>\n",
       "        \n",
       "            <td style=\"text-align: left;\"><strong>Connection method:</strong> Cluster object</td>\n",
       "            <td style=\"text-align: left;\"><strong>Cluster type:</strong> distributed.LocalCluster</td>\n",
       "        \n",
       "        </tr>\n",
       "\n",
       "        \n",
       "            <tr>\n",
       "                <td style=\"text-align: left;\">\n",
       "                    <strong>Dashboard: </strong> <a href=\"http://127.0.0.1:8787/status\" target=\"_blank\">http://127.0.0.1:8787/status</a>\n",
       "                </td>\n",
       "                <td style=\"text-align: left;\"></td>\n",
       "            </tr>\n",
       "        \n",
       "\n",
       "        </table>\n",
       "\n",
       "        \n",
       "            <details>\n",
       "            <summary style=\"margin-bottom: 20px;\"><h3 style=\"display: inline;\">Cluster Info</h3></summary>\n",
       "            <div class=\"jp-RenderedHTMLCommon jp-RenderedHTML jp-mod-trusted jp-OutputArea-output\">\n",
       "    <div style=\"width: 24px; height: 24px; background-color: #e1e1e1; border: 3px solid #9D9D9D; border-radius: 5px; position: absolute;\">\n",
       "    </div>\n",
       "    <div style=\"margin-left: 48px;\">\n",
       "        <h3 style=\"margin-bottom: 0px; margin-top: 0px;\">LocalCluster</h3>\n",
       "        <p style=\"color: #9D9D9D; margin-bottom: 0px;\">1b5cfb11</p>\n",
       "        <table style=\"width: 100%; text-align: left;\">\n",
       "            <tr>\n",
       "                <td style=\"text-align: left;\">\n",
       "                    <strong>Dashboard:</strong> <a href=\"http://127.0.0.1:8787/status\" target=\"_blank\">http://127.0.0.1:8787/status</a>\n",
       "                </td>\n",
       "                <td style=\"text-align: left;\">\n",
       "                    <strong>Workers:</strong> 1\n",
       "                </td>\n",
       "            </tr>\n",
       "            <tr>\n",
       "                <td style=\"text-align: left;\">\n",
       "                    <strong>Total threads:</strong> 4\n",
       "                </td>\n",
       "                <td style=\"text-align: left;\">\n",
       "                    <strong>Total memory:</strong> 3.73 GiB\n",
       "                </td>\n",
       "            </tr>\n",
       "            \n",
       "            <tr>\n",
       "    <td style=\"text-align: left;\"><strong>Status:</strong> running</td>\n",
       "    <td style=\"text-align: left;\"><strong>Using processes:</strong> True</td>\n",
       "</tr>\n",
       "\n",
       "            \n",
       "        </table>\n",
       "\n",
       "        <details>\n",
       "            <summary style=\"margin-bottom: 20px;\">\n",
       "                <h3 style=\"display: inline;\">Scheduler Info</h3>\n",
       "            </summary>\n",
       "\n",
       "            <div style=\"\">\n",
       "    <div>\n",
       "        <div style=\"width: 24px; height: 24px; background-color: #FFF7E5; border: 3px solid #FF6132; border-radius: 5px; position: absolute;\"> </div>\n",
       "        <div style=\"margin-left: 48px;\">\n",
       "            <h3 style=\"margin-bottom: 0px;\">Scheduler</h3>\n",
       "            <p style=\"color: #9D9D9D; margin-bottom: 0px;\">Scheduler-acfec7aa-865a-477e-aece-f2b17c61c37e</p>\n",
       "            <table style=\"width: 100%; text-align: left;\">\n",
       "                <tr>\n",
       "                    <td style=\"text-align: left;\">\n",
       "                        <strong>Comm:</strong> tcp://127.0.0.1:1780\n",
       "                    </td>\n",
       "                    <td style=\"text-align: left;\">\n",
       "                        <strong>Workers:</strong> 1\n",
       "                    </td>\n",
       "                </tr>\n",
       "                <tr>\n",
       "                    <td style=\"text-align: left;\">\n",
       "                        <strong>Dashboard:</strong> <a href=\"http://127.0.0.1:8787/status\" target=\"_blank\">http://127.0.0.1:8787/status</a>\n",
       "                    </td>\n",
       "                    <td style=\"text-align: left;\">\n",
       "                        <strong>Total threads:</strong> 4\n",
       "                    </td>\n",
       "                </tr>\n",
       "                <tr>\n",
       "                    <td style=\"text-align: left;\">\n",
       "                        <strong>Started:</strong> Just now\n",
       "                    </td>\n",
       "                    <td style=\"text-align: left;\">\n",
       "                        <strong>Total memory:</strong> 3.73 GiB\n",
       "                    </td>\n",
       "                </tr>\n",
       "            </table>\n",
       "        </div>\n",
       "    </div>\n",
       "\n",
       "    <details style=\"margin-left: 48px;\">\n",
       "        <summary style=\"margin-bottom: 20px;\">\n",
       "            <h3 style=\"display: inline;\">Workers</h3>\n",
       "        </summary>\n",
       "\n",
       "        \n",
       "        <div style=\"margin-bottom: 20px;\">\n",
       "            <div style=\"width: 24px; height: 24px; background-color: #DBF5FF; border: 3px solid #4CC9FF; border-radius: 5px; position: absolute;\"> </div>\n",
       "            <div style=\"margin-left: 48px;\">\n",
       "            <details>\n",
       "                <summary>\n",
       "                    <h4 style=\"margin-bottom: 0px; display: inline;\">Worker: 0</h4>\n",
       "                </summary>\n",
       "                <table style=\"width: 100%; text-align: left;\">\n",
       "                    <tr>\n",
       "                        <td style=\"text-align: left;\">\n",
       "                            <strong>Comm: </strong> tcp://127.0.0.1:1790\n",
       "                        </td>\n",
       "                        <td style=\"text-align: left;\">\n",
       "                            <strong>Total threads: </strong> 4\n",
       "                        </td>\n",
       "                    </tr>\n",
       "                    <tr>\n",
       "                        <td style=\"text-align: left;\">\n",
       "                            <strong>Dashboard: </strong> <a href=\"http://127.0.0.1:1791/status\" target=\"_blank\">http://127.0.0.1:1791/status</a>\n",
       "                        </td>\n",
       "                        <td style=\"text-align: left;\">\n",
       "                            <strong>Memory: </strong> 3.73 GiB\n",
       "                        </td>\n",
       "                    </tr>\n",
       "                    <tr>\n",
       "                        <td style=\"text-align: left;\">\n",
       "                            <strong>Nanny: </strong> tcp://127.0.0.1:1783\n",
       "                        </td>\n",
       "                        <td style=\"text-align: left;\"></td>\n",
       "                    </tr>\n",
       "                    <tr>\n",
       "                        <td colspan=\"2\" style=\"text-align: left;\">\n",
       "                            <strong>Local directory: </strong> C:\\Users\\Lenovo\\dask-worker-space\\worker-lta7e7q4\n",
       "                        </td>\n",
       "                    </tr>\n",
       "\n",
       "                    \n",
       "\n",
       "                    \n",
       "\n",
       "                </table>\n",
       "            </details>\n",
       "            </div>\n",
       "        </div>\n",
       "        \n",
       "\n",
       "    </details>\n",
       "</div>\n",
       "\n",
       "        </details>\n",
       "    </div>\n",
       "</div>\n",
       "            </details>\n",
       "        \n",
       "\n",
       "    </div>\n",
       "</div>"
      ],
      "text/plain": [
       "<Client: 'tcp://127.0.0.1:1780' processes=1 threads=4, memory=3.73 GiB>"
      ]
     },
     "execution_count": 6,
     "metadata": {},
     "output_type": "execute_result"
    }
   ],
   "source": [
    "dask.config.set(scheduler='multiprocessing')\n",
    "from dask.distributed import Client, LocalCluster\n",
    "cluster = LocalCluster(n_workers=1, threads_per_worker=4, memory_limit = '4GB')\n",
    "# explicitly connect to the cluster just created\n",
    "client = Client(cluster)\n",
    "# Viewing the client and the cluster\n",
    "client"
   ]
  },
  {
   "cell_type": "code",
   "execution_count": 7,
   "id": "3aee8c0b",
   "metadata": {},
   "outputs": [
    {
     "data": {
      "text/html": [
       "<div>\n",
       "<style scoped>\n",
       "    .dataframe tbody tr th:only-of-type {\n",
       "        vertical-align: middle;\n",
       "    }\n",
       "\n",
       "    .dataframe tbody tr th {\n",
       "        vertical-align: top;\n",
       "    }\n",
       "\n",
       "    .dataframe thead th {\n",
       "        text-align: right;\n",
       "    }\n",
       "</style>\n",
       "<table border=\"1\" class=\"dataframe\">\n",
       "  <thead>\n",
       "    <tr style=\"text-align: right;\">\n",
       "      <th></th>\n",
       "      <th>Unnamed: 0</th>\n",
       "      <th>PC1</th>\n",
       "      <th>PC2</th>\n",
       "      <th>PC3</th>\n",
       "      <th>PC4</th>\n",
       "      <th>PM10</th>\n",
       "    </tr>\n",
       "  </thead>\n",
       "  <tbody>\n",
       "    <tr>\n",
       "      <th>0</th>\n",
       "      <td>1</td>\n",
       "      <td>0.421050</td>\n",
       "      <td>-3.569345</td>\n",
       "      <td>-0.166368</td>\n",
       "      <td>-0.353392</td>\n",
       "      <td>4.0</td>\n",
       "    </tr>\n",
       "    <tr>\n",
       "      <th>1</th>\n",
       "      <td>2</td>\n",
       "      <td>0.405010</td>\n",
       "      <td>-3.679821</td>\n",
       "      <td>-0.211176</td>\n",
       "      <td>-0.445583</td>\n",
       "      <td>8.0</td>\n",
       "    </tr>\n",
       "    <tr>\n",
       "      <th>2</th>\n",
       "      <td>3</td>\n",
       "      <td>0.419814</td>\n",
       "      <td>-3.972367</td>\n",
       "      <td>-0.365826</td>\n",
       "      <td>-0.741313</td>\n",
       "      <td>7.0</td>\n",
       "    </tr>\n",
       "    <tr>\n",
       "      <th>3</th>\n",
       "      <td>4</td>\n",
       "      <td>0.820573</td>\n",
       "      <td>-3.004630</td>\n",
       "      <td>-0.026597</td>\n",
       "      <td>-0.066497</td>\n",
       "      <td>6.0</td>\n",
       "    </tr>\n",
       "    <tr>\n",
       "      <th>4</th>\n",
       "      <td>5</td>\n",
       "      <td>0.994147</td>\n",
       "      <td>-2.589963</td>\n",
       "      <td>0.157487</td>\n",
       "      <td>0.277241</td>\n",
       "      <td>3.0</td>\n",
       "    </tr>\n",
       "  </tbody>\n",
       "</table>\n",
       "</div>"
      ],
      "text/plain": [
       "   Unnamed: 0       PC1       PC2       PC3       PC4  PM10\n",
       "0           1  0.421050 -3.569345 -0.166368 -0.353392   4.0\n",
       "1           2  0.405010 -3.679821 -0.211176 -0.445583   8.0\n",
       "2           3  0.419814 -3.972367 -0.365826 -0.741313   7.0\n",
       "3           4  0.820573 -3.004630 -0.026597 -0.066497   6.0\n",
       "4           5  0.994147 -2.589963  0.157487  0.277241   3.0"
      ]
     },
     "execution_count": 7,
     "metadata": {},
     "output_type": "execute_result"
    }
   ],
   "source": [
    "ML_pollution_dd=dd.read_csv(\"F:\\Documents\\MSc Data Science & Analytics\\Distributed Data Analysis\\Coding\\Reduced Pollution Dataset.csv\",\n",
    "                        dtype = \n",
    "                        {'PM10': 'float64',\n",
    "                        'SO2': 'float64',\n",
    "                        'O3': 'float64',\n",
    "                        'NO2': 'float64'})\n",
    "ML_pollution_dd.head(n=5)"
   ]
  },
  {
   "cell_type": "code",
   "execution_count": 8,
   "id": "ef071766",
   "metadata": {},
   "outputs": [],
   "source": [
    "pollution = ML_pollution_dd.compute()\n",
    "ML_pollution_partitioned = dd.from_pandas(pollution, npartitions=20)"
   ]
  },
  {
   "cell_type": "code",
   "execution_count": 9,
   "id": "0fdcb47e",
   "metadata": {},
   "outputs": [],
   "source": [
    "def pollution_NN(df):\n",
    "    \n",
    "    x = df[['PC1', 'PC2', 'PC3', 'PC4']].to_numpy()\n",
    "    y = df.PM10\n",
    "    \n",
    "    xtrain, xtest, ytrain, ytest = train_test_split(x, y, test_size = 0.2, random_state=1)\n",
    "    \n",
    "    # Storing MSE error for different nodes\n",
    "    MSE_error = []\n",
    "    \n",
    " \n",
    "    NN_model = MLPRegressor(hidden_layer_sizes = (5), random_state=1, max_iter=10000).fit(xtrain, ytrain.values.ravel())\n",
    "        \n",
    "    # Train the data\n",
    "    NN_model.fit(xtrain, ytrain.values.ravel())\n",
    "\n",
    "    # Predicrt the target variable using test input data\n",
    "    NN_pred = NN_model.predict(xtest)\n",
    "        \n",
    "        \n",
    "    # Compute errors\n",
    "    error = mean_squared_error(ytest.values.ravel(), NN_pred)\n",
    "    MSE_error.append(error)\n",
    "    \n",
    "        \n",
    "    return error"
   ]
  },
  {
   "cell_type": "code",
   "execution_count": 12,
   "id": "d2bdfc5a",
   "metadata": {},
   "outputs": [
    {
     "data": {
      "text/plain": [
       "0     2444.563406\n",
       "1     1938.254151\n",
       "2     1822.038593\n",
       "3     1652.659926\n",
       "4     1671.159599\n",
       "5     2415.348279\n",
       "6     1975.588634\n",
       "7     2130.412629\n",
       "8     2340.563649\n",
       "9     2048.444956\n",
       "10    1912.914979\n",
       "11    1824.431983\n",
       "12    1905.816390\n",
       "13    2054.259350\n",
       "14    1934.005737\n",
       "15    2253.503916\n",
       "16    2108.628182\n",
       "17    2343.363865\n",
       "18    2255.459297\n",
       "19    1776.982788\n",
       "dtype: float64"
      ]
     },
     "execution_count": 12,
     "metadata": {},
     "output_type": "execute_result"
    }
   ],
   "source": [
    "p1 = ML_pollution_partitioned .map_partitions(pollution_NN, meta = (None, 'int64'))\n",
    "one_hiddenlayer_error = p1.compute()\n",
    "one_hiddenlayer_error"
   ]
  },
  {
   "cell_type": "code",
   "execution_count": 24,
   "id": "b660d8f2",
   "metadata": {},
   "outputs": [
    {
     "data": {
      "image/png": "[encoded data removed]",
      "text/plain": [
       "<IPython.core.display.Image object>"
      ]
     },
     "execution_count": 24,
     "metadata": {},
     "output_type": "execute_result"
    }
   ],
   "source": [
    "p1.visualize()"
   ]
  },
  {
   "cell_type": "code",
   "execution_count": 25,
   "id": "01438c31",
   "metadata": {},
   "outputs": [
    {
     "data": {
      "text/plain": [
       "45.171008571780746"
      ]
     },
     "execution_count": 25,
     "metadata": {},
     "output_type": "execute_result"
    }
   ],
   "source": [
    "# Calculating the average of error for all partitions\n",
    "partition_mean1 = one_hiddenlayer_error.mean()\n",
    "\n",
    "# Calculating RMSE to be able to compare it with teammates' results\n",
    "RMSE = math.sqrt(partition_mean1)  \n",
    "RMSE"
   ]
  },
  {
   "cell_type": "code",
   "execution_count": 26,
   "id": "c72a18ff",
   "metadata": {},
   "outputs": [],
   "source": [
    "def pollution_NN2(df):\n",
    "    \n",
    "    x = df[['PC1', 'PC2', 'PC3', 'PC4']].to_numpy()\n",
    "    y = df.PM10\n",
    "    \n",
    "    xtrain, xtest, ytrain, ytest = train_test_split(x, y, test_size = 0.2, random_state=1)\n",
    "    \n",
    "    # Storing MSE error for different nodes\n",
    "    MSE_error2 = []\n",
    "    \n",
    "        \n",
    "    NN_model2 = MLPRegressor(hidden_layer_sizes = (5,5), random_state=1, max_iter=10000).fit(xtrain, ytrain.values.ravel())\n",
    "        \n",
    "    # Train the data\n",
    "    NN_model2.fit(xtrain, ytrain.values.ravel())\n",
    "\n",
    "    # Predicrt the target variable using test input data\n",
    "    NN_pred2 = NN_model2.predict(xtest)\n",
    "        \n",
    "        \n",
    "    # Compute errors\n",
    "    error2 = mean_squared_error(ytest.values.ravel(), NN_pred2)\n",
    "    MSE_error2.append(error2)\n",
    "    \n",
    "   \n",
    "    return error2"
   ]
  },
  {
   "cell_type": "code",
   "execution_count": 27,
   "id": "02c37318",
   "metadata": {},
   "outputs": [],
   "source": [
    "p2 = ML_pollution_partitioned.map_partitions(pollution_NN2, meta = (None, 'int64'))\n",
    "two_hiddenlayer_error = p2.compute()"
   ]
  },
  {
   "cell_type": "code",
   "execution_count": 28,
   "id": "e3f17368",
   "metadata": {},
   "outputs": [
    {
     "data": {
      "text/plain": [
       "0     2438.668873\n",
       "1     1921.747198\n",
       "2     1807.456247\n",
       "3     1641.250010\n",
       "4     1658.325177\n",
       "5     2480.638032\n",
       "6     1967.945248\n",
       "7     2040.688780\n",
       "8     2315.404831\n",
       "9     2025.407073\n",
       "10    1906.419034\n",
       "11    1830.965474\n",
       "12    1958.099379\n",
       "13    2050.247752\n",
       "14    1894.566838\n",
       "15    2210.090058\n",
       "16    2036.211816\n",
       "17    2254.232065\n",
       "18    2248.428461\n",
       "19    1700.539739\n",
       "dtype: float64"
      ]
     },
     "execution_count": 28,
     "metadata": {},
     "output_type": "execute_result"
    }
   ],
   "source": [
    "two_hiddenlayer_error"
   ]
  },
  {
   "cell_type": "code",
   "execution_count": 29,
   "id": "fcd7ecb9",
   "metadata": {},
   "outputs": [
    {
     "data": {
      "text/plain": [
       "44.93736312047781"
      ]
     },
     "execution_count": 29,
     "metadata": {},
     "output_type": "execute_result"
    }
   ],
   "source": [
    "# Calculating the average of error for all partitions\n",
    "partition_mean2 = two_hiddenlayer_error.mean()\n",
    "\n",
    "# Calculating RMSE to be able to compare it with teammates' results\n",
    "RMSE = math.sqrt(partition_mean2)  \n",
    "RMSE"
   ]
  },
  {
   "cell_type": "code",
   "execution_count": 31,
   "id": "e4b0a316",
   "metadata": {},
   "outputs": [],
   "source": [
    "def pollution_NN3(df):\n",
    "    \n",
    "    x = df[['PC1', 'PC2', 'PC3', 'PC4']].to_numpy()\n",
    "    y = df.PM10\n",
    "    \n",
    "    xtrain, xtest, ytrain, ytest = train_test_split(x, y, test_size = 0.2, random_state=1)\n",
    "    \n",
    "    # Storing MSE error for different nodes\n",
    "    MSE_error3 = []\n",
    "    \n",
    "        \n",
    "    NN_model3 = MLPRegressor(hidden_layer_sizes = (5,5,5), random_state=1, max_iter=10000).fit(xtrain, ytrain.values.ravel())\n",
    "        \n",
    "    # Train the data\n",
    "    NN_model3.fit(xtrain, ytrain.values.ravel())\n",
    "\n",
    "    # Predicrt the target variable using test input data\n",
    "    NN_pred3 = NN_model3.predict(xtest)\n",
    "        \n",
    "        \n",
    "    # Compute errors\n",
    "    error3 = mean_squared_error(ytest.values.ravel(), NN_pred3)\n",
    "    MSE_error3.append(error3)\n",
    "        \n",
    "    return error3"
   ]
  },
  {
   "cell_type": "code",
   "execution_count": 32,
   "id": "9e9e7efc",
   "metadata": {},
   "outputs": [],
   "source": [
    "p3 = ML_pollution_partitioned.map_partitions(pollution_NN3, meta = (None, 'int64'))\n",
    "three_hiddenlayer_error = p3.compute()"
   ]
  },
  {
   "cell_type": "code",
   "execution_count": 33,
   "id": "945cef06",
   "metadata": {},
   "outputs": [
    {
     "data": {
      "text/plain": [
       "0     2436.531279\n",
       "1     1924.647409\n",
       "2     1811.563269\n",
       "3     1631.964852\n",
       "4     1642.026429\n",
       "5     2494.483366\n",
       "6     1950.324339\n",
       "7     2074.222586\n",
       "8     2263.672321\n",
       "9     1968.057287\n",
       "10    1904.889445\n",
       "11    1832.059859\n",
       "12    1988.988515\n",
       "13    2016.558749\n",
       "14    1867.512891\n",
       "15    2208.542899\n",
       "16    2141.861623\n",
       "17    2338.646213\n",
       "18    2241.152109\n",
       "19    1773.158462\n",
       "dtype: float64"
      ]
     },
     "execution_count": 33,
     "metadata": {},
     "output_type": "execute_result"
    }
   ],
   "source": [
    "three_hiddenlayer_error"
   ]
  },
  {
   "cell_type": "code",
   "execution_count": 34,
   "id": "5e5a769b",
   "metadata": {},
   "outputs": [
    {
     "data": {
      "text/plain": [
       "45.006035096443696"
      ]
     },
     "execution_count": 34,
     "metadata": {},
     "output_type": "execute_result"
    }
   ],
   "source": [
    "# Calculating the average of error for all partitions\n",
    "partition_mean3 = three_hiddenlayer_error.mean()\n",
    "\n",
    "# Calculating RMSE to be able to compare it with teammates' results\n",
    "RMSE = math.sqrt(partition_mean3)  \n",
    "RMSE "
   ]
  },
  {
   "cell_type": "code",
   "execution_count": 35,
   "id": "0f7d729c",
   "metadata": {},
   "outputs": [],
   "source": [
    "def pollution_NN4(df):\n",
    "    \n",
    "    x = df[['PC1', 'PC2', 'PC3', 'PC4']].to_numpy()\n",
    "    y = df.PM10\n",
    "    \n",
    "    xtrain, xtest, ytrain, ytest = train_test_split(x, y, test_size = 0.2, random_state=1)\n",
    "    \n",
    "    # Storing MSE error for different nodes\n",
    "    MSE_error4 = []\n",
    "    \n",
    "        \n",
    "    NN_model4 = MLPRegressor(hidden_layer_sizes = (10,5,5), random_state=1, max_iter=10000).fit(xtrain, ytrain.values.ravel())\n",
    "        \n",
    "    # Train the data\n",
    "    NN_model4.fit(xtrain, ytrain.values.ravel())\n",
    "\n",
    "    # Predicrt the target variable using test input data\n",
    "    NN_pred4 = NN_model4.predict(xtest)\n",
    "        \n",
    "        \n",
    "    # Compute errors\n",
    "    error4 = mean_squared_error(ytest.values.ravel(), NN_pred4)\n",
    "    MSE_error4.append(error4)\n",
    "        \n",
    "    return error4"
   ]
  },
  {
   "cell_type": "code",
   "execution_count": 38,
   "id": "92b971b6",
   "metadata": {},
   "outputs": [],
   "source": [
    "p4 = ML_pollution_partitioned.map_partitions(pollution_NN4, meta = (None, 'int64'))\n",
    "three_hiddenlayer_error_10node = p4.compute()"
   ]
  },
  {
   "cell_type": "code",
   "execution_count": 39,
   "id": "065e0ae1",
   "metadata": {},
   "outputs": [
    {
     "data": {
      "text/plain": [
       "0     2341.399322\n",
       "1     1843.168075\n",
       "2     1763.659932\n",
       "3     1575.705869\n",
       "4     1601.043207\n",
       "5     2372.905599\n",
       "6     1846.064022\n",
       "7     2007.241052\n",
       "8     2235.074722\n",
       "9     1913.477426\n",
       "10    1749.849895\n",
       "11    1681.156775\n",
       "12    1861.096243\n",
       "13    1956.713196\n",
       "14    1843.341338\n",
       "15    2104.046281\n",
       "16    1987.780604\n",
       "17    2205.665680\n",
       "18    2146.516319\n",
       "19    1663.179681\n",
       "dtype: float64"
      ]
     },
     "execution_count": 39,
     "metadata": {},
     "output_type": "execute_result"
    }
   ],
   "source": [
    "three_hiddenlayer_error_10node"
   ]
  },
  {
   "cell_type": "code",
   "execution_count": 40,
   "id": "94e16649",
   "metadata": {},
   "outputs": [
    {
     "data": {
      "text/plain": [
       "43.98811500583177"
      ]
     },
     "execution_count": 40,
     "metadata": {},
     "output_type": "execute_result"
    }
   ],
   "source": [
    "# Calculating the average of error for all partitions\n",
    "partition_mean4 = three_hiddenlayer_error_10node.mean()\n",
    "\n",
    "# Calculating RMSE to be able to compare it with teammates' results\n",
    "RMSE = math.sqrt(partition_mean4)  \n",
    "RMSE "
   ]
  },
  {
   "cell_type": "code",
   "execution_count": 42,
   "id": "70c57c52",
   "metadata": {},
   "outputs": [],
   "source": [
    "def pollution_NN5(df):\n",
    "    \n",
    "    x = df[['PC1', 'PC2', 'PC3', 'PC4']].to_numpy()\n",
    "    y = df.PM10\n",
    "    \n",
    "    xtrain, xtest, ytrain, ytest = train_test_split(x, y, test_size = 0.2, random_state=1)\n",
    "    \n",
    "    # Storing MSE error for different nodes\n",
    "    MSE_error5 = []\n",
    "    \n",
    "        \n",
    "    NN_model5 = MLPRegressor(hidden_layer_sizes = (10,10,5), random_state=1, max_iter=10000).fit(xtrain, ytrain.values.ravel())\n",
    "        \n",
    "    # Train the data\n",
    "    NN_model5.fit(xtrain, ytrain.values.ravel())\n",
    "\n",
    "    # Predicrt the target variable using test input data\n",
    "    NN_pred5 = NN_model5.predict(xtest)\n",
    "        \n",
    "        \n",
    "    # Compute errors\n",
    "    error5 = mean_squared_error(ytest.values.ravel(), NN_pred5)\n",
    "    MSE_error5.append(error5)\n",
    "        \n",
    "    return error5"
   ]
  },
  {
   "cell_type": "code",
   "execution_count": 43,
   "id": "4efac019",
   "metadata": {},
   "outputs": [],
   "source": [
    "p5 = ML_pollution_partitioned.map_partitions(pollution_NN5, meta = (None, 'int64'))\n",
    "three_hiddenlayer_error_10node_10node = p5.compute()"
   ]
  },
  {
   "cell_type": "code",
   "execution_count": 44,
   "id": "58588abd",
   "metadata": {},
   "outputs": [
    {
     "data": {
      "text/plain": [
       "0     2297.932580\n",
       "1     1856.296540\n",
       "2     1747.700332\n",
       "3     1583.887656\n",
       "4     1629.591095\n",
       "5     2326.954841\n",
       "6     1838.479425\n",
       "7     1945.270788\n",
       "8     2211.409356\n",
       "9     1933.378617\n",
       "10    1781.743842\n",
       "11    1687.183892\n",
       "12    1853.757227\n",
       "13    1965.067196\n",
       "14    1819.045182\n",
       "15    2111.696151\n",
       "16    2003.593489\n",
       "17    2222.348575\n",
       "18    2123.654793\n",
       "19    1652.254767\n",
       "dtype: float64"
      ]
     },
     "execution_count": 44,
     "metadata": {},
     "output_type": "execute_result"
    }
   ],
   "source": [
    "three_hiddenlayer_error_10node_10node"
   ]
  },
  {
   "cell_type": "code",
   "execution_count": 45,
   "id": "e766f7b9",
   "metadata": {},
   "outputs": [
    {
     "data": {
      "text/plain": [
       "43.926783597887635"
      ]
     },
     "execution_count": 45,
     "metadata": {},
     "output_type": "execute_result"
    }
   ],
   "source": [
    "# Calculating the average of error for all partitions\n",
    "partition_mean5 = three_hiddenlayer_error_10node_10node.mean()\n",
    "\n",
    "# Calculating RMSE to be able to compare it with teammates' results\n",
    "RMSE = math.sqrt(partition_mean5)  \n",
    "RMSE "
   ]
  },
  {
   "cell_type": "code",
   "execution_count": 46,
   "id": "d0b7f17b",
   "metadata": {},
   "outputs": [],
   "source": [
    "def pollution_NN6(df):\n",
    "    \n",
    "    x = df[['PC1', 'PC2', 'PC3', 'PC4']].to_numpy()\n",
    "    y = df.PM10\n",
    "    \n",
    "    xtrain, xtest, ytrain, ytest = train_test_split(x, y, test_size = 0.2, random_state=1)\n",
    "    \n",
    "    # Storing MSE error for different nodes\n",
    "    MSE_error6 = []\n",
    "    \n",
    "        \n",
    "    NN_model6 = MLPRegressor(hidden_layer_sizes = (10,10,10), random_state=1, max_iter=10000).fit(xtrain, ytrain.values.ravel())\n",
    "        \n",
    "    # Train the data\n",
    "    NN_model6.fit(xtrain, ytrain.values.ravel())\n",
    "\n",
    "    # Predicrt the target variable using test input data\n",
    "    NN_pred6 = NN_model6.predict(xtest)\n",
    "        \n",
    "        \n",
    "    # Compute errors\n",
    "    error6 = mean_squared_error(ytest.values.ravel(), NN_pred6)\n",
    "    MSE_error6.append(error6)\n",
    "        \n",
    "    return error6"
   ]
  },
  {
   "cell_type": "code",
   "execution_count": 47,
   "id": "11ec5abf",
   "metadata": {},
   "outputs": [],
   "source": [
    "p6 = ML_pollution_partitioned.map_partitions(pollution_NN6, meta = (None, 'int64'))\n",
    "three_hiddenlayer_error_10node_10node_10node = p6.compute()"
   ]
  },
  {
   "cell_type": "code",
   "execution_count": 48,
   "id": "53df7963",
   "metadata": {},
   "outputs": [
    {
     "data": {
      "text/plain": [
       "0     2294.131046\n",
       "1     1829.711549\n",
       "2     1756.370625\n",
       "3     1578.222643\n",
       "4     1626.610388\n",
       "5     2350.539266\n",
       "6     1833.621466\n",
       "7     1955.546402\n",
       "8     2196.621125\n",
       "9     1903.381591\n",
       "10    1786.889624\n",
       "11    1672.108143\n",
       "12    1839.064962\n",
       "13    1949.627393\n",
       "14    1831.448620\n",
       "15    2105.641146\n",
       "16    2000.366057\n",
       "17    2196.989643\n",
       "18    2124.628928\n",
       "19    1669.889547\n",
       "dtype: float64"
      ]
     },
     "execution_count": 48,
     "metadata": {},
     "output_type": "execute_result"
    }
   ],
   "source": [
    "three_hiddenlayer_error_10node_10node_10node"
   ]
  },
  {
   "cell_type": "code",
   "execution_count": 52,
   "id": "0da5b0bf",
   "metadata": {},
   "outputs": [
    {
     "data": {
      "text/plain": [
       "43.87562544606234"
      ]
     },
     "execution_count": 52,
     "metadata": {},
     "output_type": "execute_result"
    }
   ],
   "source": [
    "# Calculating the average of error for all partitions\n",
    "partition_mean6 = three_hiddenlayer_error_10node_10node_10node.mean()\n",
    "\n",
    "# Calculating RMSE to be able to compare it with teammates' results\n",
    "RMSE = math.sqrt(partition_mean6)  \n",
    "RMSE "
   ]
  },
  {
   "cell_type": "code",
   "execution_count": 50,
   "id": "64056f59",
   "metadata": {},
   "outputs": [],
   "source": [
    "def pollution_NN7(df):\n",
    "    \n",
    "    x = df[['PC1', 'PC2', 'PC3', 'PC4']].to_numpy()\n",
    "    y = df.PM10\n",
    "    \n",
    "    xtrain, xtest, ytrain, ytest = train_test_split(x, y, test_size = 0.2, random_state=1)\n",
    "    \n",
    "    # Storing MSE error for different nodes\n",
    "    MSE_error7 = []\n",
    "    \n",
    "        \n",
    "    NN_model7 = MLPRegressor(hidden_layer_sizes = (10,5), random_state=1, max_iter=10000).fit(xtrain, ytrain.values.ravel())\n",
    "        \n",
    "    # Train the data\n",
    "    NN_model7.fit(xtrain, ytrain.values.ravel())\n",
    "\n",
    "    # Predicrt the target variable using test input data\n",
    "    NN_pred7 = NN_model7.predict(xtest)\n",
    "        \n",
    "        \n",
    "    # Compute errors\n",
    "    error7 = mean_squared_error(ytest.values.ravel(), NN_pred7)\n",
    "    MSE_error7.append(error7)\n",
    "        \n",
    "    return error7"
   ]
  },
  {
   "cell_type": "code",
   "execution_count": 51,
   "id": "ac541bb7",
   "metadata": {},
   "outputs": [],
   "source": [
    "p7 = ML_pollution_partitioned.map_partitions(pollution_NN7, meta = (None, 'int64'))\n",
    "two_hiddenlayer_error_10node = p7.compute()"
   ]
  },
  {
   "cell_type": "code",
   "execution_count": 53,
   "id": "4f95718f",
   "metadata": {},
   "outputs": [
    {
     "data": {
      "text/plain": [
       "0     2434.578143\n",
       "1     1894.827328\n",
       "2     1772.789713\n",
       "3     1640.226654\n",
       "4     1638.087632\n",
       "5     2491.472383\n",
       "6     1883.152934\n",
       "7     2103.254413\n",
       "8     2318.155490\n",
       "9     1954.790743\n",
       "10    1908.713896\n",
       "11    1702.312876\n",
       "12    1868.081244\n",
       "13    2042.751153\n",
       "14    1869.110929\n",
       "15    2196.818961\n",
       "16    2013.711788\n",
       "17    2348.380726\n",
       "18    2245.121348\n",
       "19    1768.605240\n",
       "dtype: float64"
      ]
     },
     "execution_count": 53,
     "metadata": {},
     "output_type": "execute_result"
    }
   ],
   "source": [
    "two_hiddenlayer_error_10node"
   ]
  },
  {
   "cell_type": "code",
   "execution_count": 54,
   "id": "f86ce126",
   "metadata": {},
   "outputs": [
    {
     "data": {
      "text/plain": [
       "44.774403174804675"
      ]
     },
     "execution_count": 54,
     "metadata": {},
     "output_type": "execute_result"
    }
   ],
   "source": [
    "# Calculating the average of error for all partitions\n",
    "partition_mean7 = two_hiddenlayer_error_10node.mean()\n",
    "\n",
    "# Calculating RMSE to be able to compare it with teammates' results\n",
    "RMSE = math.sqrt(partition_mean7)  \n",
    "RMSE "
   ]
  },
  {
   "cell_type": "code",
   "execution_count": 55,
   "id": "3edb75d9",
   "metadata": {},
   "outputs": [],
   "source": [
    "def pollution_NN8(df):\n",
    "    \n",
    "    x = df[['PC1', 'PC2', 'PC3', 'PC4']].to_numpy()\n",
    "    y = df.PM10\n",
    "    \n",
    "    xtrain, xtest, ytrain, ytest = train_test_split(x, y, test_size = 0.2, random_state=1)\n",
    "    \n",
    "    # Storing MSE error for different nodes\n",
    "    MSE_error8 = []\n",
    "    \n",
    "        \n",
    "    NN_model8 = MLPRegressor(hidden_layer_sizes = (10,10), random_state=1, max_iter=10000).fit(xtrain, ytrain.values.ravel())\n",
    "        \n",
    "    # Train the data\n",
    "    NN_model8.fit(xtrain, ytrain.values.ravel())\n",
    "\n",
    "    # Predicrt the target variable using test input data\n",
    "    NN_pred8 = NN_model8.predict(xtest)\n",
    "        \n",
    "        \n",
    "    # Compute errors\n",
    "    error8 = mean_squared_error(ytest.values.ravel(), NN_pred8)\n",
    "    MSE_error8.append(error8)\n",
    "        \n",
    "    return error8"
   ]
  },
  {
   "cell_type": "code",
   "execution_count": 56,
   "id": "8c3f2867",
   "metadata": {},
   "outputs": [],
   "source": [
    "p8 = ML_pollution_partitioned.map_partitions(pollution_NN8, meta = (None, 'int64'))\n",
    "two_hiddenlayer_error_10node_10node = p8.compute()"
   ]
  },
  {
   "cell_type": "code",
   "execution_count": 57,
   "id": "826aaaf9",
   "metadata": {},
   "outputs": [
    {
     "data": {
      "text/plain": [
       "0     2297.938234\n",
       "1     1861.452156\n",
       "2     1732.015582\n",
       "3     1570.934562\n",
       "4     1618.880483\n",
       "5     2349.068604\n",
       "6     1879.495285\n",
       "7     1974.630335\n",
       "8     2224.130297\n",
       "9     1929.757843\n",
       "10    1795.733432\n",
       "11    1697.398800\n",
       "12    1845.664586\n",
       "13    1963.863600\n",
       "14    1861.763949\n",
       "15    2114.047972\n",
       "16    2012.168011\n",
       "17    2201.470950\n",
       "18    2114.199468\n",
       "19    1681.128073\n",
       "dtype: float64"
      ]
     },
     "execution_count": 57,
     "metadata": {},
     "output_type": "execute_result"
    }
   ],
   "source": [
    "two_hiddenlayer_error_10node_10node"
   ]
  },
  {
   "cell_type": "code",
   "execution_count": 58,
   "id": "b8652f0e",
   "metadata": {},
   "outputs": [
    {
     "data": {
      "text/plain": [
       "44.00326250501054"
      ]
     },
     "execution_count": 58,
     "metadata": {},
     "output_type": "execute_result"
    }
   ],
   "source": [
    "# Calculating the average of error for all partitions\n",
    "partition_mean8 = two_hiddenlayer_error_10node_10node.mean()\n",
    "\n",
    "# Calculating RMSE to be able to compare it with teammates' results\n",
    "RMSE = math.sqrt(partition_mean8)  \n",
    "RMSE "
   ]
  },
  {
   "cell_type": "code",
   "execution_count": null,
   "id": "3c951e7c",
   "metadata": {},
   "outputs": [],
   "source": []
  }
 ],
 "metadata": {
  "kernelspec": {
   "display_name": "Python 3 (ipykernel)",
   "language": "python",
   "name": "python3"
  },
  "language_info": {
   "codemirror_mode": {
    "name": "ipython",
    "version": 3
   },
   "file_extension": ".py",
   "mimetype": "text/x-python",
   "name": "python",
   "nbconvert_exporter": "python",
   "pygments_lexer": "ipython3",
   "version": "3.9.7"
  }
 },
 "nbformat": 4,
 "nbformat_minor": 5
}
